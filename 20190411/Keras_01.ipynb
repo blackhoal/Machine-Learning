{
 "cells": [
  {
   "cell_type": "code",
   "execution_count": 15,
   "metadata": {},
   "outputs": [],
   "source": [
    "# Linear Regression\n",
    "#!pip install keras\n",
    "import keras\n",
    "from keras.models import Sequential\n",
    "from keras.layers import Dense, Activation\n",
    "import numpy as np\n",
    "import matplotlib.pyplot as plt\n",
    "# data load, preprocessing\n",
    "x = np.linspace(1,2,200)\n",
    "y = x*4 + np.random.randn(*x.shape) * 0.3\n",
    "#plt.scatter(x,y)\n",
    "#plt.show()"
   ]
  },
  {
   "cell_type": "code",
   "execution_count": 18,
   "metadata": {},
   "outputs": [],
   "source": [
    "# create the model\n",
    "model = Sequential()\n",
    "model.add(Dense(1, input_dim=1, activation='linear'))"
   ]
  },
  {
   "cell_type": "code",
   "execution_count": 19,
   "metadata": {},
   "outputs": [],
   "source": [
    "model.compile(optimizer='sgd', loss='mse', metrics=['mse'])\n",
    "# Mean square error, MSE:평균오차의 제곱"
   ]
  },
  {
   "cell_type": "code",
   "execution_count": 29,
   "metadata": {},
   "outputs": [
    {
     "data": {
      "text/plain": [
       "(0.4422406, 0.0)"
      ]
     },
     "execution_count": 29,
     "metadata": {},
     "output_type": "execute_result"
    }
   ],
   "source": [
    "weights = model.layers[0].get_weights()\n",
    "w_init = weights[0][0][0]\n",
    "b_init = weights[1][0]\n",
    "w_init, b_init"
   ]
  },
  {
   "cell_type": "code",
   "execution_count": 30,
   "metadata": {},
   "outputs": [
    {
     "name": "stdout",
     "output_type": "stream",
     "text": [
      "WARNING:tensorflow:From C:\\Users\\Administrator\\Anaconda3\\envs\\tensorflow\\lib\\site-packages\\tensorflow\\python\\ops\\math_ops.py:3066: to_int32 (from tensorflow.python.ops.math_ops) is deprecated and will be removed in a future version.\n",
      "Instructions for updating:\n",
      "Use tf.cast instead.\n",
      "Epoch 1/30\n",
      "200/200 [==============================] - 0s 834us/step - loss: 1.0009 - mean_squared_error: 1.0009\n",
      "Epoch 2/30\n",
      "200/200 [==============================] - 0s 592us/step - loss: 0.1691 - mean_squared_error: 0.1691\n",
      "Epoch 3/30\n",
      "200/200 [==============================] - 0s 538us/step - loss: 0.1639 - mean_squared_error: 0.1639\n",
      "Epoch 4/30\n",
      "200/200 [==============================] - 0s 571us/step - loss: 0.1591 - mean_squared_error: 0.1591\n",
      "Epoch 5/30\n",
      "200/200 [==============================] - 0s 541us/step - loss: 0.1548 - mean_squared_error: 0.1548\n",
      "Epoch 6/30\n",
      "200/200 [==============================] - 0s 561us/step - loss: 0.1507 - mean_squared_error: 0.1507\n",
      "Epoch 7/30\n",
      "200/200 [==============================] - 0s 542us/step - loss: 0.1471 - mean_squared_error: 0.1471\n",
      "Epoch 8/30\n",
      "200/200 [==============================] - 0s 555us/step - loss: 0.1437 - mean_squared_error: 0.1437\n",
      "Epoch 9/30\n",
      "200/200 [==============================] - 0s 565us/step - loss: 0.1406 - mean_squared_error: 0.1406\n",
      "Epoch 10/30\n",
      "200/200 [==============================] - 0s 555us/step - loss: 0.1377 - mean_squared_error: 0.1377\n",
      "Epoch 11/30\n",
      "200/200 [==============================] - 0s 555us/step - loss: 0.1351 - mean_squared_error: 0.1351\n",
      "Epoch 12/30\n",
      "200/200 [==============================] - 0s 560us/step - loss: 0.1327 - mean_squared_error: 0.1327\n",
      "Epoch 13/30\n",
      "200/200 [==============================] - 0s 560us/step - loss: 0.1304 - mean_squared_error: 0.1304\n",
      "Epoch 14/30\n",
      "200/200 [==============================] - 0s 590us/step - loss: 0.1284 - mean_squared_error: 0.1284\n",
      "Epoch 15/30\n",
      "200/200 [==============================] - 0s 580us/step - loss: 0.1265 - mean_squared_error: 0.1265\n",
      "Epoch 16/30\n",
      "200/200 [==============================] - 0s 575us/step - loss: 0.1248 - mean_squared_error: 0.1248\n",
      "Epoch 17/30\n",
      "200/200 [==============================] - 0s 508us/step - loss: 0.1232 - mean_squared_error: 0.1232\n",
      "Epoch 18/30\n",
      "200/200 [==============================] - 0s 612us/step - loss: 0.1218 - mean_squared_error: 0.1218\n",
      "Epoch 19/30\n",
      "200/200 [==============================] - 0s 565us/step - loss: 0.1204 - mean_squared_error: 0.1204\n",
      "Epoch 20/30\n",
      "200/200 [==============================] - 0s 565us/step - loss: 0.1192 - mean_squared_error: 0.1192\n",
      "Epoch 21/30\n",
      "200/200 [==============================] - 0s 555us/step - loss: 0.1181 - mean_squared_error: 0.1181\n",
      "Epoch 22/30\n",
      "200/200 [==============================] - 0s 509us/step - loss: 0.1171 - mean_squared_error: 0.1171\n",
      "Epoch 23/30\n",
      "200/200 [==============================] - 0s 599us/step - loss: 0.1161 - mean_squared_error: 0.1161\n",
      "Epoch 24/30\n",
      "200/200 [==============================] - 0s 560us/step - loss: 0.1153 - mean_squared_error: 0.1153\n",
      "Epoch 25/30\n",
      "200/200 [==============================] - 0s 577us/step - loss: 0.1145 - mean_squared_error: 0.1145\n",
      "Epoch 26/30\n",
      "200/200 [==============================] - 0s 562us/step - loss: 0.1137 - mean_squared_error: 0.1137\n",
      "Epoch 27/30\n",
      "200/200 [==============================] - 0s 560us/step - loss: 0.1131 - mean_squared_error: 0.1131\n",
      "Epoch 28/30\n",
      "200/200 [==============================] - 0s 550us/step - loss: 0.1124 - mean_squared_error: 0.1124\n",
      "Epoch 29/30\n",
      "200/200 [==============================] - 0s 561us/step - loss: 0.1119 - mean_squared_error: 0.1119\n",
      "Epoch 30/30\n",
      "200/200 [==============================] - 0s 570us/step - loss: 0.1113 - mean_squared_error: 0.1113\n"
     ]
    },
    {
     "data": {
      "text/plain": [
       "<keras.callbacks.History at 0x1e3220c0630>"
      ]
     },
     "execution_count": 30,
     "metadata": {},
     "output_type": "execute_result"
    }
   ],
   "source": [
    "model.fit(x,y, batch_size=1, epochs=30, shuffle=False)"
   ]
  },
  {
   "cell_type": "code",
   "execution_count": 33,
   "metadata": {},
   "outputs": [
    {
     "data": {
      "text/plain": [
       "[<matplotlib.lines.Line2D at 0x1e32c97d630>,\n",
       " <matplotlib.lines.Line2D at 0x1e32c97d780>]"
      ]
     },
     "execution_count": 33,
     "metadata": {},
     "output_type": "execute_result"
    },
    {
     "data": {
      "image/png": "[encoded data removed]",
      "text/plain": [
       "<Figure size 432x288 with 1 Axes>"
      ]
     },
     "metadata": {
      "needs_background": "light"
     },
     "output_type": "display_data"
    }
   ],
   "source": [
    "predict = model.predict(x)\n",
    "plt.plot(x, predict, 'b', x, y, 'k.')"
   ]
  },
  {
   "cell_type": "code",
   "execution_count": null,
   "metadata": {},
   "outputs": [],
   "source": []
  }
 ],
 "metadata": {
  "kernelspec": {
   "display_name": "Python 3",
   "language": "python",
   "name": "python3"
  },
  "language_info": {
   "codemirror_mode": {
    "name": "ipython",
    "version": 3
   },
   "file_extension": ".py",
   "mimetype": "text/x-python",
   "name": "python",
   "nbconvert_exporter": "python",
   "pygments_lexer": "ipython3",
   "version": "3.7.3"
  }
 },
 "nbformat": 4,
 "nbformat_minor": 2
}
