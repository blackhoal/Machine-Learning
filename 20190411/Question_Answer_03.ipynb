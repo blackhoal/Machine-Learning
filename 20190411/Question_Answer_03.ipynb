{
 "cells": [
  {
   "cell_type": "code",
   "execution_count": 2,
   "metadata": {},
   "outputs": [
    {
     "name": "stderr",
     "output_type": "stream",
     "text": [
      "C:\\Users\\Administrator\\Anaconda3\\envs\\tensorflow\\lib\\site-packages\\sklearn\\linear_model\\logistic.py:433: FutureWarning: Default solver will be changed to 'lbfgs' in 0.22. Specify a solver to silence this warning.\n",
      "  FutureWarning)\n",
      "C:\\Users\\Administrator\\Anaconda3\\envs\\tensorflow\\lib\\site-packages\\sklearn\\utils\\validation.py:761: DataConversionWarning: A column-vector y was passed when a 1d array was expected. Please change the shape of y to (n_samples, ), for example using ravel().\n",
      "  y = column_or_1d(y, warn=True)\n",
      "C:\\Users\\Administrator\\Anaconda3\\envs\\tensorflow\\lib\\site-packages\\sklearn\\utils\\validation.py:761: DataConversionWarning: A column-vector y was passed when a 1d array was expected. Please change the shape of y to (n_samples, ), for example using ravel().\n",
      "  y = column_or_1d(y, warn=True)\n"
     ]
    },
    {
     "name": "stdout",
     "output_type": "stream",
     "text": [
      "0.9649122807017544\n",
      "0.9590643274853801\n",
      "0.9239766081871345\n",
      "0.9473684210526315\n"
     ]
    },
    {
     "name": "stderr",
     "output_type": "stream",
     "text": [
      "C:\\Users\\Administrator\\Anaconda3\\envs\\tensorflow\\lib\\site-packages\\ipykernel_launcher.py:48: DataConversionWarning: A column-vector y was passed when a 1d array was expected. Please change the shape of y to (n_samples, ), for example using ravel().\n"
     ]
    }
   ],
   "source": [
    "#* from sklearn.datasets import load_breast_cancer\n",
    "#dataset = datasets.load_breast_cancer()\n",
    "#X = dataset.data\n",
    "#y = dataset.target\n",
    "\n",
    "#데이터를 사용하여 \n",
    "#- KNeighborsClassifier\n",
    "#- SVM\n",
    "#- DecisionTree\n",
    "#- LogisticRegression\n",
    "\n",
    "#각각의 accuracy_score 데이터를 임의적으로 만들어서 3가지를 비교해보시오.\n",
    "from sklearn import datasets\n",
    "from sklearn.svm import SVC\n",
    "from sklearn.linear_model import LogisticRegression\n",
    "from sklearn.tree import DecisionTreeClassifier\n",
    "from sklearn.neighbors import KNeighborsClassifier\n",
    "from sklearn.model_selection import train_test_split\n",
    "from sklearn.datasets import load_breast_cancer\n",
    "from sklearn.metrics import accuracy_score\n",
    "\n",
    "dataset = datasets.load_breast_cancer()\n",
    "dataset\n",
    "X = dataset.data\n",
    "y = dataset.target\n",
    "\n",
    "X1 = X\n",
    "y1 = y.reshape(-1,1)\n",
    "\n",
    "X_train, X_test, y_train, y_test = train_test_split(X1, y1, test_size = 0.3, random_state=0)\n",
    "\n",
    "lr = LogisticRegression()\n",
    "lr.fit(X_train, y_train)\n",
    "rResult = lr.predict(X_test)\n",
    "print(accuracy_score(y_test, rResult))\n",
    "\n",
    "svc_linear_kernel = SVC(kernel='linear')\n",
    "svc_linear_kernel.fit(X_train, y_train)\n",
    "reResult2 = svc_linear_kernel.predict(X_test)\n",
    "print(accuracy_score(y_test, reResult2))\n",
    "\n",
    "dtree = DecisionTreeClassifier()\n",
    "dtree.fit(X_train, y_train)\n",
    "reResult3 = dtree.predict(X_test)\n",
    "print(accuracy_score(y_test, reResult3))\n",
    "\n",
    "knn = KNeighborsClassifier()\n",
    "knn.fit(X_train, y_train)\n",
    "reResult4 = knn.predict(X_test)\n",
    "print(accuracy_score(y_test, reResult4))\n"
   ]
  },
  {
   "cell_type": "code",
   "execution_count": 7,
   "metadata": {},
   "outputs": [
    {
     "name": "stdout",
     "output_type": "stream",
     "text": [
      "0 (24999.999, 53000.0]\n",
      "1 (53000.0, 74500.0]\n",
      "2 (74500.0, 190000.0]\n",
      "0.5975609756097561\n",
      "0.524390243902439\n",
      "0.5792682926829268\n",
      "0.5975609756097561\n"
     ]
    },
    {
     "name": "stderr",
     "output_type": "stream",
     "text": [
      "C:\\Users\\Administrator\\Anaconda3\\envs\\tensorflow\\lib\\site-packages\\sklearn\\linear_model\\logistic.py:433: FutureWarning: Default solver will be changed to 'lbfgs' in 0.22. Specify a solver to silence this warning.\n",
      "  FutureWarning)\n",
      "C:\\Users\\Administrator\\Anaconda3\\envs\\tensorflow\\lib\\site-packages\\sklearn\\linear_model\\logistic.py:460: FutureWarning: Default multi_class will be changed to 'auto' in 0.22. Specify the multi_class option to silence this warning.\n",
      "  \"this warning.\", FutureWarning)\n",
      "C:\\Users\\Administrator\\Anaconda3\\envs\\tensorflow\\lib\\site-packages\\sklearn\\linear_model\\logistic.py:433: FutureWarning: Default solver will be changed to 'lbfgs' in 0.22. Specify a solver to silence this warning.\n",
      "  FutureWarning)\n",
      "C:\\Users\\Administrator\\Anaconda3\\envs\\tensorflow\\lib\\site-packages\\sklearn\\linear_model\\logistic.py:460: FutureWarning: Default multi_class will be changed to 'auto' in 0.22. Specify the multi_class option to silence this warning.\n",
      "  \"this warning.\", FutureWarning)\n"
     ]
    }
   ],
   "source": [
    "#* Diabetes.csv를 사용하여 DecisionTree를 사용하여 \n",
    "#accuracy_score,metrics.precision_score, metrics.recall_score을 구하시오.\n",
    "#* 다음 데이터셋을 이용하여 VotingClassifier사용하여 정확도를 구하시오.\n",
    "#from pydataset import data\n",
    "#df = data('Housing')\n",
    "#=> 다음의 Classfiters등을 사용함.\n",
    "#lr = LogisticRegression()\n",
    "#knn = KNeighborsClassifier()\n",
    "#dt = DecisionTreeClassifier()\n",
    "#!pip install pydataset\n",
    "from sklearn import datasets\n",
    "from sklearn.tree import DecisionTreeClassifier\n",
    "from sklearn.linear_model import LogisticRegression\n",
    "from sklearn.neighbors import KNeighborsClassifier\n",
    "from sklearn.model_selection import train_test_split\n",
    "from sklearn.model_selection import cross_val_score\n",
    "from sklearn import metrics\n",
    "import pandas as pd\n",
    "import numpy as np\n",
    "from pydataset import data\n",
    "# Get the housing data\n",
    "df = data('Housing')\n",
    "# label 'yes' and 'no'\n",
    "d = dict(zip(['no', 'yes'], range(0,2)))\n",
    "for i in zip(df.dtypes.index, df.dtypes):\n",
    "    if str(i[1]) == 'object':\n",
    "        df[i[0]] = df[i[0]].map(d)\n",
    "        \n",
    "for i, j in enumerate(np.unique(pd.qcut(df['price'], 3))):\n",
    "    print(i, j)\n",
    "\n",
    "df['price'] = pd.qcut(df['price'], 3, labels=['0', '1', '2']).cat.codes\n",
    "y = df['price'] \n",
    "x = df.drop('price', 1)\n",
    "xtrain, xtest, ytrain, ytest = train_test_split(x, y, test_size=0.3, random_state=0)\n",
    "lr = LogisticRegression()\n",
    "knn = KNeighborsClassifier()\n",
    "dt = DecisionTreeClassifier()\n",
    "classifiers = [('LR', lr), ('KNN', knn), ('DT', dt)]\n",
    "\n",
    "for clf_name, clf in classifiers:\n",
    "    clf.fit(xtrain, ytrain)\n",
    "    rResult = clf.predict(xtest)\n",
    "    accuracy = metrics.accuracy_score(ytest, rResult)\n",
    "    # precision, recall ?\n",
    "    print(accuracy)\n",
    "\n",
    "from sklearn.ensemble import VotingClassifier\n",
    "vc = VotingClassifier(estimators=classifiers)\n",
    "vc.fit(xtrain, ytrain)\n",
    "rResult2 = vc.predict(xtest)\n",
    "accuracy2 = metrics.accuracy_score(ytest, rResult2)\n",
    "print(accuracy2)"
   ]
  },
  {
   "cell_type": "code",
   "execution_count": null,
   "metadata": {},
   "outputs": [],
   "source": [
    "#* surprise모듈에서 제공하는 Dataset을 사용하여\n",
    "#df = Dataset.load_builtin('ml-100k')\n",
    "#id가 196번인 사용자에게 10개를 추천하시오.\n",
    "#* Tensorflow를 사용하여 다음을 처리하시오.\n",
    "#w = tf.Variable([0.5], dtype=tf.float32)\n",
    "#b = tf.Variable([-0.5], dtype=tf.float32)\n",
    "#-> Linear Regression을 정의하고 [1, 2, 3, 4] 입력이\n",
    "#   된경우 예측하시오.\n"
   ]
  }
 ],
 "metadata": {
  "kernelspec": {
   "display_name": "Python 3",
   "language": "python",
   "name": "python3"
  },
  "language_info": {
   "codemirror_mode": {
    "name": "ipython",
    "version": 3
   },
   "file_extension": ".py",
   "mimetype": "text/x-python",
   "name": "python",
   "nbconvert_exporter": "python",
   "pygments_lexer": "ipython3",
   "version": "3.7.3"
  }
 },
 "nbformat": 4,
 "nbformat_minor": 2
}
