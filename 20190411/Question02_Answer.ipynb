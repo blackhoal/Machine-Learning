{
 "cells": [
  {
   "cell_type": "code",
   "execution_count": 25,
   "metadata": {},
   "outputs": [
    {
     "data": {
      "text/plain": [
       "array([2])"
      ]
     },
     "execution_count": 25,
     "metadata": {},
     "output_type": "execute_result"
    }
   ],
   "source": [
    "#* sklearn datasets\n",
    "#iris = datasets.load_iris()를 사용하여 \n",
    "#k-nearest 사용하여 다음의 값을 입력하고 분류하시오.\n",
    "#[9,3]\n",
    "import matplotlib.pyplot as plt\n",
    "import pandas as pd\n",
    "import numpy as np\n",
    "\n",
    "from sklearn import neighbors, datasets\n",
    "from matplotlib.colors import ListedColormap\n",
    "iris = datasets.load_iris()\n",
    "x = iris.data[:, :2] # 0:sepal.lengh, 1:sepal.width\n",
    "y = iris.target\n",
    "k = 6\n",
    "nn = neighbors.KNeighborsClassifier(k, weights=\"distance\")\n",
    "nn.fit(x, y)\n",
    "nn.predict([[9,3]]) "
   ]
  },
  {
   "cell_type": "code",
   "execution_count": 22,
   "metadata": {},
   "outputs": [
    {
     "name": "stderr",
     "output_type": "stream",
     "text": [
      "C:\\Users\\Administrator\\Anaconda3\\envs\\tensorflow\\lib\\site-packages\\ipykernel_launcher.py:12: DataConversionWarning: A column-vector y was passed when a 1d array was expected. Please change the shape of y to (n_samples, ), for example using ravel().\n",
      "  if sys.path[0] == '':\n"
     ]
    },
    {
     "data": {
      "text/plain": [
       "array(['Builder'], dtype=object)"
      ]
     },
     "execution_count": 22,
     "metadata": {},
     "output_type": "execute_result"
    }
   ],
   "source": [
    "#* TestData.csv이용해서 K Nearest Neighbors 알고리즘을 사용해서 다음의 값(Height, Weight, Age, Class)을 입력하고 예측하시오.\n",
    "#[1.90,80,40]\n",
    "import matplotlib.pyplot as plt\n",
    "import pandas as pd\n",
    "import numpy as np\n",
    "from sklearn import neighbors, datasets\n",
    "from matplotlib.colors import ListedColormap\n",
    "df = pd.read_csv(\"TestData.csv\")\n",
    "x,y = df.iloc[:,:3].values, df.iloc[:,-1:].values\n",
    "x1 = np.array([[1.90,80,40]])\n",
    "knn = neighbors.KNeighborsClassifier(6, weights='distance')\n",
    "knn.fit(x,y)\n",
    "knn.predict(x1)"
   ]
  },
  {
   "cell_type": "code",
   "execution_count": 29,
   "metadata": {},
   "outputs": [
    {
     "data": {
      "text/plain": [
       "(0.9590643274853801, 0.9809523809523809)"
      ]
     },
     "execution_count": 29,
     "metadata": {},
     "output_type": "execute_result"
    }
   ],
   "source": [
    "#* datasets.load_breast_cancer()을 이용하여 \n",
    "#linear모델을 사용하여 정확도(accuracy)를 구하시오.\n",
    "from sklearn import datasets\n",
    "from sklearn.model_selection import train_test_split\n",
    "cancer = datasets.load_breast_cancer()\n",
    "xtrain, xtest, ytrain, ytest = train_test_split(cancer.data, cancer.target,\n",
    "                                               test_size=0.3, random_state=0)\n",
    "from sklearn import svm\n",
    "clf = svm.SVC(kernel='linear')\n",
    "clf.fit(xtrain, ytrain)\n",
    "yResult = clf.predict(xtest)\n",
    "from sklearn import metrics\n",
    "metrics.accuracy_score(ytest, yResult), metrics.precision_score(ytest, yResult)"
   ]
  },
  {
   "cell_type": "code",
   "execution_count": null,
   "metadata": {},
   "outputs": [],
   "source": []
  }
 ],
 "metadata": {
  "kernelspec": {
   "display_name": "Python 3",
   "language": "python",
   "name": "python3"
  },
  "language_info": {
   "codemirror_mode": {
    "name": "ipython",
    "version": 3
   },
   "file_extension": ".py",
   "mimetype": "text/x-python",
   "name": "python",
   "nbconvert_exporter": "python",
   "pygments_lexer": "ipython3",
   "version": "3.7.3"
  }
 },
 "nbformat": 4,
 "nbformat_minor": 2
}
