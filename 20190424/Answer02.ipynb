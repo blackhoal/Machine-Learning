{
 "cells": [
  {
   "cell_type": "code",
   "execution_count": 6,
   "metadata": {},
   "outputs": [
    {
     "data": {
      "image/png": "[encoded data removed]",
      "text/plain": [
       "<Figure size 432x288 with 1 Axes>"
      ]
     },
     "metadata": {
      "needs_background": "light"
     },
     "output_type": "display_data"
    },
    {
     "data": {
      "text/plain": [
       "array([2])"
      ]
     },
     "execution_count": 6,
     "metadata": {},
     "output_type": "execute_result"
    }
   ],
   "source": [
    "import matplotlib.pyplot as plt\n",
    "import pandas as pd\n",
    "import numpy as np\n",
    "from sklearn import neighbors, datasets\n",
    "from matplotlib.colors import ListedColormap\n",
    "iris = datasets.load_iris()\n",
    "x = iris.data[:, :2] # 0:sepal.lengh, 1:sepal.width\n",
    "y = iris.target\n",
    "\n",
    "plt.figure()\n",
    "plt.scatter(x[:,0], x[:,1])\n",
    "plt.ylabel(\"sepal.width\")\n",
    "plt.xlabel(\"sepal.length\")\n",
    "plt.show()\n",
    "\n",
    "k = 3\n",
    "nn = neighbors.KNeighborsClassifier(k, weights=\"distance\")\n",
    "nn.fit(x, y)\n",
    "nn.predict([[7,3]]) # 0: Setosa, 1:Versicolour, 2:Virginica"
   ]
  },
  {
   "cell_type": "code",
   "execution_count": 10,
   "metadata": {},
   "outputs": [
    {
     "name": "stderr",
     "output_type": "stream",
     "text": [
      "C:\\Users\\Administrator\\Anaconda3\\lib\\site-packages\\ipykernel_launcher.py:11: DataConversionWarning: A column-vector y was passed when a 1d array was expected. Please change the shape of y to (n_samples, ), for example using ravel().\n",
      "  # This is added back by InteractiveShellApp.init_path()\n"
     ]
    },
    {
     "data": {
      "text/plain": [
       "array(['Programmer'], dtype=object)"
      ]
     },
     "execution_count": 10,
     "metadata": {},
     "output_type": "execute_result"
    }
   ],
   "source": [
    "#2 \n",
    "import matplotlib.pyplot as plt\n",
    "import pandas as pd\n",
    "import numpy as np\n",
    "\n",
    "from sklearn import neighbors, datasets\n",
    "from matplotlib.colors import ListedColormap\n",
    "df = pd.read_csv(\"TestData.csv\")\n",
    "x,y = df.iloc[:,:3].values, df.iloc[:,-1:].values\n",
    "knn = neighbors.KNeighborsClassifier(6, weights='distance')\n",
    "knn.fit(x,y)\n",
    "knn.predict([[1.94,80,20]])"
   ]
  },
  {
   "cell_type": "code",
   "execution_count": 14,
   "metadata": {},
   "outputs": [
    {
     "data": {
      "text/plain": [
       "(0.9590643274853801, 0.9809523809523809)"
      ]
     },
     "execution_count": 14,
     "metadata": {},
     "output_type": "execute_result"
    }
   ],
   "source": [
    "#3\n",
    "from sklearn import datasets\n",
    "from sklearn.model_selection import train_test_split\n",
    "cancer = datasets.load_breast_cancer()\n",
    "xtrain, xtest, ytrain, ytest = train_test_split(cancer.data, cancer.target,\n",
    "                                               test_size=0.3, random_state=0)\n",
    "from sklearn import svm\n",
    "clf = svm.SVC(kernel='linear')\n",
    "clf.fit(xtrain, ytrain)\n",
    "yResult = clf.predict(xtest)\n",
    "from sklearn import metrics\n",
    "metrics.accuracy_score(ytest, yResult), metrics.precision_score(ytest, yResult)"
   ]
  },
  {
   "cell_type": "code",
   "execution_count": 16,
   "metadata": {},
   "outputs": [
    {
     "name": "stderr",
     "output_type": "stream",
     "text": [
      "C:\\Users\\Administrator\\Anaconda3\\lib\\site-packages\\sklearn\\svm\\base.py:196: FutureWarning: The default value of gamma will change from 'auto' to 'scale' in version 0.22 to account better for unscaled features. Set gamma explicitly to 'auto' or 'scale' to avoid this warning.\n",
      "  \"avoid this warning.\", FutureWarning)\n"
     ]
    },
    {
     "data": {
      "text/plain": [
       "1.0"
      ]
     },
     "execution_count": 16,
     "metadata": {},
     "output_type": "execute_result"
    },
    {
     "data": {
      "image/png": "[encoded data removed]",
      "text/plain": [
       "<Figure size 432x288 with 1 Axes>"
      ]
     },
     "metadata": {
      "needs_background": "light"
     },
     "output_type": "display_data"
    }
   ],
   "source": [
    "#4\n",
    "import numpy as np\n",
    "import pandas as pd\n",
    "\n",
    "from sklearn import svm, datasets\n",
    "digits = datasets.load_digits()\n",
    "clf = svm.SVC()\n",
    "x, y = digits.data[:-10], digits.target[:-10]\n",
    "clf.fit(x,y)\n",
    "\n",
    "import matplotlib.pyplot as plt\n",
    "#digits.data[-5]\n",
    "plt.imshow(digits.images[-5], cmap=plt.cm.gray_r)\n",
    "#plt.show()\n",
    "rResult = clf.predict(digits.data[-5].reshape(1,-1))\n",
    "from sklearn import metrics\n",
    "metrics.accuracy_score(rResult, digits.target[-5].reshape(1,-1))"
   ]
  }
 ],
 "metadata": {
  "kernelspec": {
   "display_name": "Python 3",
   "language": "python",
   "name": "python3"
  },
  "language_info": {
   "codemirror_mode": {
    "name": "ipython",
    "version": 3
   },
   "file_extension": ".py",
   "mimetype": "text/x-python",
   "name": "python",
   "nbconvert_exporter": "python",
   "pygments_lexer": "ipython3",
   "version": "3.7.1"
  }
 },
 "nbformat": 4,
 "nbformat_minor": 2
}
