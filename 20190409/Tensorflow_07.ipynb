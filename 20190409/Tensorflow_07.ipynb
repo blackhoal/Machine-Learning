{
 "cells": [
  {
   "cell_type": "code",
   "execution_count": 44,
   "metadata": {},
   "outputs": [],
   "source": [
    "#Nearest Neighbers\n",
    "#!pip install pillow\n",
    "import numpy as np\n",
    "import PIL.Image as pil\n",
    "from tensorflow.examples.tutorials.mnist import input_data"
   ]
  },
  {
   "cell_type": "code",
   "execution_count": 47,
   "metadata": {
    "scrolled": true
   },
   "outputs": [
    {
     "name": "stdout",
     "output_type": "stream",
     "text": [
      "Extracting ./tmp/data/train-images-idx3-ubyte.gz\n",
      "Extracting ./tmp/data/train-labels-idx1-ubyte.gz\n",
      "Extracting ./tmp/data/t10k-images-idx3-ubyte.gz\n",
      "Extracting ./tmp/data/t10k-labels-idx1-ubyte.gz\n"
     ]
    }
   ],
   "source": [
    "mnist = input_data.read_data_sets('./tmp/data/', one_hot=True)"
   ]
  },
  {
   "cell_type": "code",
   "execution_count": 48,
   "metadata": {},
   "outputs": [],
   "source": [
    "testImage = (np.array(mnist.test.images[0], dtype='float')).reshape(28,28)"
   ]
  },
  {
   "cell_type": "code",
   "execution_count": 49,
   "metadata": {},
   "outputs": [],
   "source": [
    "img = pil.fromarray(np.uint8(testImage * 255), 'L')"
   ]
  },
  {
   "cell_type": "code",
   "execution_count": 50,
   "metadata": {},
   "outputs": [],
   "source": [
    "#img.show()\n",
    "import tensorflow as tf"
   ]
  },
  {
   "cell_type": "code",
   "execution_count": 51,
   "metadata": {},
   "outputs": [],
   "source": [
    "Xtrain, Ytrain = mnist.train.next_batch(5000)\n",
    "Xtest, Ytest = mnist.test.next_batch(200)"
   ]
  },
  {
   "cell_type": "code",
   "execution_count": 52,
   "metadata": {},
   "outputs": [],
   "source": [
    "xtr = tf.placeholder('float', [None, 784])\n",
    "xte = tf.placeholder('float', [784])"
   ]
  },
  {
   "cell_type": "code",
   "execution_count": 53,
   "metadata": {},
   "outputs": [],
   "source": [
    "distance = tf.reduce_sum(tf.abs(tf.add(xtr, tf.negative(xte))), \\\n",
    "                        reduction_indices=1)"
   ]
  },
  {
   "cell_type": "code",
   "execution_count": 54,
   "metadata": {},
   "outputs": [],
   "source": [
    "pred = tf.arg_min(distance, 0)\n",
    "accuarcy = 0.\n",
    "init = tf.global_variables_initializer()"
   ]
  },
  {
   "cell_type": "code",
   "execution_count": 55,
   "metadata": {},
   "outputs": [],
   "source": [
    "sess = tf.Session()\n",
    "sess.run(init)"
   ]
  },
  {
   "cell_type": "code",
   "execution_count": 57,
   "metadata": {},
   "outputs": [
    {
     "name": "stdout",
     "output_type": "stream",
     "text": [
      "Test 0 Predictions 0 True Class: 0\n",
      "Test 1 Predictions 2 True Class: 2\n",
      "Test 2 Predictions 3 True Class: 3\n",
      "Test 3 Predictions 9 True Class: 9\n",
      "Test 4 Predictions 3 True Class: 3\n",
      "Test 5 Predictions 1 True Class: 1\n",
      "Test 6 Predictions 0 True Class: 0\n",
      "Test 7 Predictions 1 True Class: 1\n",
      "Test 8 Predictions 5 True Class: 5\n",
      "Test 9 Predictions 0 True Class: 0\n",
      "Test 10 Predictions 4 True Class: 4\n",
      "Test 11 Predictions 9 True Class: 9\n",
      "Test 12 Predictions 6 True Class: 6\n",
      "Test 13 Predictions 5 True Class: 8\n",
      "Test 14 Predictions 6 True Class: 6\n",
      "Test 15 Predictions 8 True Class: 8\n",
      "Test 16 Predictions 3 True Class: 3\n",
      "Test 17 Predictions 4 True Class: 4\n",
      "Test 18 Predictions 7 True Class: 7\n",
      "Test 19 Predictions 2 True Class: 2\n",
      "Test 20 Predictions 2 True Class: 2\n",
      "Test 21 Predictions 3 True Class: 3\n",
      "Test 22 Predictions 0 True Class: 0\n",
      "Test 23 Predictions 2 True Class: 2\n",
      "Test 24 Predictions 3 True Class: 8\n",
      "Test 25 Predictions 1 True Class: 1\n",
      "Test 26 Predictions 9 True Class: 9\n",
      "Test 27 Predictions 3 True Class: 3\n",
      "Test 28 Predictions 6 True Class: 6\n",
      "Test 29 Predictions 2 True Class: 2\n",
      "Test 30 Predictions 5 True Class: 5\n",
      "Test 31 Predictions 5 True Class: 5\n",
      "Test 32 Predictions 4 True Class: 4\n",
      "Test 33 Predictions 4 True Class: 4\n",
      "Test 34 Predictions 1 True Class: 1\n",
      "Test 35 Predictions 3 True Class: 3\n",
      "Test 36 Predictions 2 True Class: 2\n",
      "Test 37 Predictions 6 True Class: 6\n",
      "Test 38 Predictions 1 True Class: 1\n",
      "Test 39 Predictions 8 True Class: 8\n",
      "Test 40 Predictions 9 True Class: 9\n",
      "Test 41 Predictions 1 True Class: 1\n",
      "Test 42 Predictions 2 True Class: 2\n",
      "Test 43 Predictions 8 True Class: 8\n",
      "Test 44 Predictions 6 True Class: 6\n",
      "Test 45 Predictions 6 True Class: 6\n",
      "Test 46 Predictions 5 True Class: 5\n",
      "Test 47 Predictions 5 True Class: 5\n",
      "Test 48 Predictions 1 True Class: 1\n",
      "Test 49 Predictions 1 True Class: 1\n",
      "Test 50 Predictions 6 True Class: 6\n",
      "Test 51 Predictions 3 True Class: 3\n",
      "Test 52 Predictions 9 True Class: 4\n",
      "Test 53 Predictions 8 True Class: 8\n",
      "Test 54 Predictions 7 True Class: 9\n",
      "Test 55 Predictions 7 True Class: 7\n",
      "Test 56 Predictions 1 True Class: 2\n",
      "Test 57 Predictions 4 True Class: 4\n",
      "Test 58 Predictions 8 True Class: 8\n",
      "Test 59 Predictions 4 True Class: 4\n",
      "Test 60 Predictions 8 True Class: 8\n",
      "Test 61 Predictions 2 True Class: 2\n",
      "Test 62 Predictions 6 True Class: 6\n",
      "Test 63 Predictions 4 True Class: 4\n",
      "Test 64 Predictions 8 True Class: 8\n",
      "Test 65 Predictions 4 True Class: 4\n",
      "Test 66 Predictions 1 True Class: 1\n",
      "Test 67 Predictions 3 True Class: 3\n",
      "Test 68 Predictions 6 True Class: 6\n",
      "Test 69 Predictions 7 True Class: 7\n",
      "Test 70 Predictions 4 True Class: 4\n",
      "Test 71 Predictions 3 True Class: 3\n",
      "Test 72 Predictions 3 True Class: 3\n",
      "Test 73 Predictions 7 True Class: 7\n",
      "Test 74 Predictions 0 True Class: 0\n",
      "Test 75 Predictions 3 True Class: 3\n",
      "Test 76 Predictions 1 True Class: 1\n",
      "Test 77 Predictions 7 True Class: 7\n",
      "Test 78 Predictions 8 True Class: 8\n",
      "Test 79 Predictions 4 True Class: 5\n",
      "Test 80 Predictions 8 True Class: 8\n",
      "Test 81 Predictions 5 True Class: 5\n",
      "Test 82 Predictions 5 True Class: 5\n",
      "Test 83 Predictions 3 True Class: 3\n",
      "Test 84 Predictions 1 True Class: 1\n",
      "Test 85 Predictions 0 True Class: 0\n",
      "Test 86 Predictions 7 True Class: 7\n",
      "Test 87 Predictions 0 True Class: 0\n",
      "Test 88 Predictions 6 True Class: 6\n",
      "Test 89 Predictions 1 True Class: 1\n",
      "Test 90 Predictions 7 True Class: 7\n",
      "Test 91 Predictions 2 True Class: 2\n",
      "Test 92 Predictions 6 True Class: 6\n",
      "Test 93 Predictions 8 True Class: 8\n",
      "Test 94 Predictions 6 True Class: 6\n",
      "Test 95 Predictions 0 True Class: 0\n",
      "Test 96 Predictions 9 True Class: 9\n",
      "Test 97 Predictions 4 True Class: 4\n",
      "Test 98 Predictions 1 True Class: 1\n",
      "Test 99 Predictions 1 True Class: 1\n",
      "Test 100 Predictions 3 True Class: 3\n",
      "Test 101 Predictions 6 True Class: 6\n",
      "Test 102 Predictions 5 True Class: 3\n",
      "Test 103 Predictions 2 True Class: 2\n",
      "Test 104 Predictions 2 True Class: 2\n",
      "Test 105 Predictions 9 True Class: 7\n",
      "Test 106 Predictions 5 True Class: 5\n",
      "Test 107 Predictions 9 True Class: 9\n",
      "Test 108 Predictions 9 True Class: 7\n",
      "Test 109 Predictions 7 True Class: 7\n",
      "Test 110 Predictions 6 True Class: 6\n",
      "Test 111 Predictions 7 True Class: 7\n",
      "Test 112 Predictions 2 True Class: 2\n",
      "Test 113 Predictions 6 True Class: 6\n",
      "Test 114 Predictions 7 True Class: 7\n",
      "Test 115 Predictions 4 True Class: 4\n",
      "Test 116 Predictions 4 True Class: 4\n",
      "Test 117 Predictions 3 True Class: 3\n",
      "Test 118 Predictions 1 True Class: 1\n",
      "Test 119 Predictions 7 True Class: 7\n",
      "Test 120 Predictions 1 True Class: 1\n",
      "Test 121 Predictions 2 True Class: 2\n",
      "Test 122 Predictions 1 True Class: 1\n",
      "Test 123 Predictions 7 True Class: 9\n",
      "Test 124 Predictions 3 True Class: 3\n",
      "Test 125 Predictions 8 True Class: 8\n",
      "Test 126 Predictions 2 True Class: 2\n",
      "Test 127 Predictions 2 True Class: 2\n",
      "Test 128 Predictions 2 True Class: 2\n",
      "Test 129 Predictions 5 True Class: 5\n",
      "Test 130 Predictions 4 True Class: 4\n",
      "Test 131 Predictions 1 True Class: 1\n",
      "Test 132 Predictions 4 True Class: 4\n",
      "Test 133 Predictions 4 True Class: 4\n",
      "Test 134 Predictions 0 True Class: 0\n",
      "Test 135 Predictions 0 True Class: 0\n",
      "Test 136 Predictions 6 True Class: 5\n",
      "Test 137 Predictions 6 True Class: 6\n",
      "Test 138 Predictions 3 True Class: 3\n",
      "Test 139 Predictions 6 True Class: 6\n",
      "Test 140 Predictions 3 True Class: 3\n",
      "Test 141 Predictions 0 True Class: 0\n",
      "Test 142 Predictions 8 True Class: 8\n",
      "Test 143 Predictions 2 True Class: 2\n",
      "Test 144 Predictions 5 True Class: 5\n",
      "Test 145 Predictions 0 True Class: 0\n",
      "Test 146 Predictions 3 True Class: 3\n",
      "Test 147 Predictions 9 True Class: 9\n",
      "Test 148 Predictions 2 True Class: 2\n",
      "Test 149 Predictions 7 True Class: 0\n",
      "Test 150 Predictions 5 True Class: 5\n",
      "Test 151 Predictions 1 True Class: 1\n",
      "Test 152 Predictions 3 True Class: 3\n",
      "Test 153 Predictions 7 True Class: 7\n",
      "Test 154 Predictions 9 True Class: 9\n",
      "Test 155 Predictions 3 True Class: 3\n",
      "Test 156 Predictions 7 True Class: 7\n",
      "Test 157 Predictions 0 True Class: 0\n",
      "Test 158 Predictions 8 True Class: 8\n",
      "Test 159 Predictions 0 True Class: 0\n",
      "Test 160 Predictions 2 True Class: 2\n",
      "Test 161 Predictions 2 True Class: 2\n",
      "Test 162 Predictions 3 True Class: 3\n",
      "Test 163 Predictions 4 True Class: 4\n",
      "Test 164 Predictions 4 True Class: 4\n",
      "Test 165 Predictions 5 True Class: 5\n",
      "Test 166 Predictions 3 True Class: 3\n",
      "Test 167 Predictions 1 True Class: 1\n",
      "Test 168 Predictions 1 True Class: 1\n",
      "Test 169 Predictions 8 True Class: 8\n",
      "Test 170 Predictions 5 True Class: 5\n",
      "Test 171 Predictions 4 True Class: 4\n",
      "Test 172 Predictions 3 True Class: 3\n",
      "Test 173 Predictions 1 True Class: 1\n",
      "Test 174 Predictions 5 True Class: 5\n",
      "Test 175 Predictions 8 True Class: 8\n",
      "Test 176 Predictions 3 True Class: 3\n",
      "Test 177 Predictions 9 True Class: 9\n",
      "Test 178 Predictions 5 True Class: 5\n",
      "Test 179 Predictions 7 True Class: 7\n",
      "Test 180 Predictions 7 True Class: 7\n",
      "Test 181 Predictions 1 True Class: 1\n",
      "Test 182 Predictions 0 True Class: 0\n",
      "Test 183 Predictions 7 True Class: 7\n",
      "Test 184 Predictions 7 True Class: 7\n",
      "Test 185 Predictions 3 True Class: 3\n",
      "Test 186 Predictions 2 True Class: 2\n",
      "Test 187 Predictions 2 True Class: 2\n",
      "Test 188 Predictions 2 True Class: 2\n",
      "Test 189 Predictions 7 True Class: 7\n",
      "Test 190 Predictions 6 True Class: 6\n",
      "Test 191 Predictions 9 True Class: 9\n",
      "Test 192 Predictions 8 True Class: 8\n",
      "Test 193 Predictions 6 True Class: 6\n",
      "Test 194 Predictions 1 True Class: 1\n",
      "Test 195 Predictions 3 True Class: 3\n",
      "Test 196 Predictions 8 True Class: 8\n",
      "Test 197 Predictions 5 True Class: 5\n",
      "Test 198 Predictions 4 True Class: 4\n",
      "Test 199 Predictions 4 True Class: 4\n"
     ]
    }
   ],
   "source": [
    "for i in range(len(Xtest)):\n",
    "    test_index = sess.run(pred, feed_dict={xtr:Xtrain, xte:Xtest[i,:]})\n",
    "    print(\"Test\", i, \"Predictions\", np.argmax(Ytrain[test_index]),\n",
    "         \"True Class:\", np.argmax(Ytest[i]))\n",
    "    #print(Xtrain)\n",
    "#Xtrain.shape, Xtest.shape"
   ]
  },
  {
   "cell_type": "code",
   "execution_count": null,
   "metadata": {},
   "outputs": [],
   "source": []
  },
  {
   "cell_type": "code",
   "execution_count": null,
   "metadata": {},
   "outputs": [],
   "source": []
  }
 ],
 "metadata": {
  "kernelspec": {
   "display_name": "Python 3",
   "language": "python",
   "name": "python3"
  },
  "language_info": {
   "codemirror_mode": {
    "name": "ipython",
    "version": 3
   },
   "file_extension": ".py",
   "mimetype": "text/x-python",
   "name": "python",
   "nbconvert_exporter": "python",
   "pygments_lexer": "ipython3",
   "version": "3.7.3"
  }
 },
 "nbformat": 4,
 "nbformat_minor": 2
}
