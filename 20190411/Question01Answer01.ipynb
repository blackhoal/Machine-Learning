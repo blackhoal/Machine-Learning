{
 "cells": [
  {
   "cell_type": "code",
   "execution_count": 7,
   "metadata": {},
   "outputs": [
    {
     "data": {
      "image/png": "[encoded data removed]",
      "text/plain": [
       "<Figure size 432x288 with 1 Axes>"
      ]
     },
     "metadata": {
      "needs_background": "light"
     },
     "output_type": "display_data"
    },
    {
     "data": {
      "image/png": "[encoded data removed]",
      "text/plain": [
       "<Figure size 432x288 with 1 Axes>"
      ]
     },
     "metadata": {
      "needs_background": "light"
     },
     "output_type": "display_data"
    }
   ],
   "source": [
    "#* 제공된 salary.csv의 YearsExperience, Salary를 사용하여 Linear Regression \n",
    "#모델을 정의하시오.\n",
    "#-> 그래프에 산점도를 표현하고, Regression직선을 출력하시오.\n",
    "import numpy as np\n",
    "import matplotlib.pyplot as plt\n",
    "import pandas as pd\n",
    "from sklearn.model_selection import train_test_split\n",
    "from sklearn.linear_model import LinearRegression\n",
    "\n",
    "# Loading, Preprocessing\n",
    "data2 = pd.read_csv(\"Salary.csv\")\n",
    "x = data2['YearsExperience'].values\n",
    "y = data2['Salary'].values\n",
    "x1 = x.reshape(-1,1)\n",
    "y1 = y.reshape(-1,1)\n",
    "\n",
    "# Defining Trainset, Testset\n",
    "xTrain, xTest, yTrain, yTest = train_test_split(x1, y1, test_size=0.25, random_state=0)\n",
    "\n",
    "# Creating Model\n",
    "linearTest = LinearRegression()\n",
    "\n",
    "# Fitting\n",
    "linearTest.fit(xTrain, yTrain)\n",
    "\n",
    "# Predition\n",
    "yPrediction = linearTest.predict(xTest)\n",
    "\n",
    "plt.scatter(xTrain, yTrain, color=\"red\")\n",
    "plt.plot(xTrain, linearTest.predict(xTrain) )\n",
    "plt.show()\n",
    "plt.scatter(xTest, yTest, color=\"red\")\n",
    "plt.plot(xTrain, linearTest.predict(xTrain) )\n",
    "plt.show()"
   ]
  },
  {
   "cell_type": "code",
   "execution_count": 3,
   "metadata": {},
   "outputs": [],
   "source": [
    "#!pip install pandas\n",
    "#!pip install sklearn"
   ]
  },
  {
   "cell_type": "code",
   "execution_count": 13,
   "metadata": {},
   "outputs": [
    {
     "data": {
      "text/plain": [
       "array([[2.93220339],\n",
       "       [4.27118644],\n",
       "       [5.61016949]])"
      ]
     },
     "execution_count": 13,
     "metadata": {},
     "output_type": "execute_result"
    }
   ],
   "source": [
    "#* 다음의 데이터를 이용하여 Linear Regression을 정의하시오.\n",
    "#- 그래프를 출력하고, x3를 입력하여 예측하시오.\n",
    "#- trainset\n",
    "#x2 = np.array([0,1,2,3,4,5,6,7,8,9])\n",
    "#y2 = np.array([1,2,2,5,6,8,9,10,10,11])\n",
    "#- testset\n",
    "#x3 = np.array([1.5,2.5,3.5])\n",
    "x2 = np.array([0,1,2,3,4,5,6,7,8,9])\n",
    "y2 = np.array([1,2,2,5,6,8,9,10,10,11])\n",
    "# Linear Regression을 이용하여 Train/Test하고 그래프로 출력하시오.\n",
    "x3 = np.array([1.5,2.5,3.5])\n",
    "\n",
    "x11 = x2.reshape(-1,1)\n",
    "y11 = y2.reshape(-1,1)\n",
    "z11 = x3.reshape(-1,1)\n",
    "\n",
    "xtrain11, xtest11, ytrain11, ytest11 = \\\n",
    "    train_test_split(x11, y11, test_size=1/3, random_state=0)\n",
    "linearRgTest = LinearRegression()\n",
    "linearRgTest.fit(xtrain11, ytrain11)\n",
    "yResult = linearRgTest.predict(xtest11)\n",
    "linearRgTest.predict(z11)"
   ]
  },
  {
   "cell_type": "code",
   "execution_count": 16,
   "metadata": {},
   "outputs": [
    {
     "name": "stderr",
     "output_type": "stream",
     "text": [
      "C:\\Users\\Administrator\\Anaconda3\\envs\\tensorflow\\lib\\site-packages\\sklearn\\linear_model\\logistic.py:433: FutureWarning: Default solver will be changed to 'lbfgs' in 0.22. Specify a solver to silence this warning.\n",
      "  FutureWarning)\n",
      "C:\\Users\\Administrator\\Anaconda3\\envs\\tensorflow\\lib\\site-packages\\sklearn\\utils\\validation.py:761: DataConversionWarning: A column-vector y was passed when a 1d array was expected. Please change the shape of y to (n_samples, ), for example using ravel().\n",
      "  y = column_or_1d(y, warn=True)\n"
     ]
    },
    {
     "data": {
      "text/plain": [
       "array([1, 0, 0, 1, 0, 0, 1, 1, 0, 0, 1, 1, 0, 0, 0, 0, 1, 0, 0, 0, 1, 0,\n",
       "       0, 0, 0, 0, 0, 1, 0, 0, 0, 0, 0, 0, 0, 1, 0, 0, 0, 1, 0, 0, 0, 1,\n",
       "       1, 0, 0, 0, 0, 0, 0, 0, 1, 0, 0, 0, 0, 0, 0, 0, 1, 0, 0, 1, 1, 1,\n",
       "       1, 0, 0, 0, 0, 1, 0, 1, 1, 0, 0, 1, 0, 0, 0, 0, 0, 0, 0, 0, 0, 0,\n",
       "       1, 0, 0, 0, 0, 0, 1, 0, 0, 0, 1, 0, 0, 0, 0, 0, 1, 0, 0, 0, 0, 1,\n",
       "       0, 0, 1, 0, 1, 1, 0, 1, 0, 1, 0, 0, 0, 0, 0, 0, 0, 0, 0, 0, 0, 0,\n",
       "       0, 1, 0, 0, 0, 0, 1, 0, 0, 1, 0, 0, 0, 0, 0, 0, 0, 0, 0, 1, 0, 0],\n",
       "      dtype=int64)"
      ]
     },
     "execution_count": 16,
     "metadata": {},
     "output_type": "execute_result"
    }
   ],
   "source": [
    "#* 다음의 데이터를 이용하여 Logistics Regression을 정의하시오. Diabetes.csv\n",
    "#-> test_size를 0.2로 정의하고 테스트하시오.\n",
    "\n",
    "import numpy as np\n",
    "import matplotlib.pyplot as plt\n",
    "import pandas as pd\n",
    "\n",
    "from sklearn.model_selection import train_test_split\n",
    "from sklearn.linear_model import LogisticRegression\n",
    "import pandas as pd\n",
    "\n",
    "df = pd.read_csv(\"Diabetes.csv\", header=0)\n",
    "select_cols = ['Pregnancies', 'Insulin', 'BMI', 'Age', 'Glucose', \\\n",
    "               'BloodPressure', 'DiabetesPedigreeFunction']\n",
    "x = df[select_cols].values\n",
    "y = df['Outcome'].values.reshape(-1,1)\n",
    "type(x), type(y)\n",
    "x.shape, y.shape\n",
    "xtrain, xtest, ytrain, ytest = train_test_split(x,y, test_size=0.2, random_state=0)\n",
    "logRegTest = LogisticRegression()\n",
    "logRegTest.fit(xtrain, ytrain)\n",
    "preResult = logRegTest.predict(xtest) #Binary 0,1\n",
    "preResult"
   ]
  },
  {
   "cell_type": "code",
   "execution_count": null,
   "metadata": {},
   "outputs": [],
   "source": []
  }
 ],
 "metadata": {
  "kernelspec": {
   "display_name": "Python 3",
   "language": "python",
   "name": "python3"
  },
  "language_info": {
   "codemirror_mode": {
    "name": "ipython",
    "version": 3
   },
   "file_extension": ".py",
   "mimetype": "text/x-python",
   "name": "python",
   "nbconvert_exporter": "python",
   "pygments_lexer": "ipython3",
   "version": "3.7.3"
  }
 },
 "nbformat": 4,
 "nbformat_minor": 2
}
